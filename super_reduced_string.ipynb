{
 "cells": [
  {
   "cell_type": "code",
   "execution_count": 2,
   "metadata": {},
   "outputs": [],
   "source": [
    "#https://www.youtube.com/watch?v=sKlGc3ySe9c&list=PL_8jNcohs27XQfEmWAHCgLFqpsNaWxUSe&index=79\n",
    "#https://www.hackerrank.com/challenges/reduced-string/problem?h_r=internal-search"
   ]
  },
  {
   "cell_type": "code",
   "execution_count": 3,
   "metadata": {},
   "outputs": [],
   "source": [
    "import math \n",
    "import os\n",
    "import numpy as np "
   ]
  },
  {
   "cell_type": "code",
   "execution_count": 15,
   "metadata": {},
   "outputs": [],
   "source": [
    "## if input is  baab , then it should be  baab--> bb--> empty string \n",
    "\n",
    "def superReducedString(s):\n",
    "    result =[]\n",
    "\n",
    "    for i in range(len(s)):\n",
    "        #print(\" printing s  ith character \",s[i])\n",
    "        if len(result)==0 or result[-1]!=s[i]:\n",
    "            #print(\"---inside if ---\")\n",
    "            result.append(s[i])\n",
    "        else:\n",
    "            #print(\"---inside else ---\")\n",
    "            result.pop()\n",
    "\n",
    "    if len(result) ==0:\n",
    "            return \"empty string\"\n",
    "    else:\n",
    "            return \"\".join(result)    \n",
    "    #return result         \n",
    "\n"
   ]
  },
  {
   "cell_type": "code",
   "execution_count": 16,
   "metadata": {},
   "outputs": [
    {
     "name": "stdout",
     "output_type": "stream",
     "text": [
      "babc\n"
     ]
    }
   ],
   "source": [
    "s= 'baaaaaaabc'\n",
    "\n",
    "result = superReducedString(s)\n",
    "\n",
    "print(result)"
   ]
  },
  {
   "cell_type": "code",
   "execution_count": 17,
   "metadata": {},
   "outputs": [
    {
     "name": "stdout",
     "output_type": "stream",
     "text": [
      "bab\n"
     ]
    }
   ],
   "source": [
    "s1= 'baaaaaaab'\n",
    "\n",
    "result = superReducedString(s1)\n",
    "\n",
    "print(result)"
   ]
  },
  {
   "cell_type": "code",
   "execution_count": 18,
   "metadata": {},
   "outputs": [
    {
     "name": "stdout",
     "output_type": "stream",
     "text": [
      "empty string\n"
     ]
    }
   ],
   "source": [
    "s2=\"baab\"\n",
    "\n",
    "result = superReducedString(s2)\n",
    "\n",
    "print(result)"
   ]
  },
  {
   "cell_type": "code",
   "execution_count": null,
   "metadata": {},
   "outputs": [],
   "source": []
  }
 ],
 "metadata": {
  "interpreter": {
   "hash": "a6b738a20b7c4dd66e3f3007408cb2b890bc08b040953abb5095f875d865ce52"
  },
  "kernelspec": {
   "display_name": "Python 3.7.7 ('tf-gpu')",
   "language": "python",
   "name": "python3"
  },
  "language_info": {
   "codemirror_mode": {
    "name": "ipython",
    "version": 3
   },
   "file_extension": ".py",
   "mimetype": "text/x-python",
   "name": "python",
   "nbconvert_exporter": "python",
   "pygments_lexer": "ipython3",
   "version": "3.7.7"
  },
  "orig_nbformat": 4
 },
 "nbformat": 4,
 "nbformat_minor": 2
}
