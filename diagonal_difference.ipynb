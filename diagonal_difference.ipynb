{
 "cells": [
  {
   "cell_type": "code",
   "execution_count": 5,
   "metadata": {},
   "outputs": [],
   "source": [
    "import os\n",
    "import random\n",
    "import re \n",
    "import sys\n",
    "import numpy as np "
   ]
  },
  {
   "cell_type": "code",
   "execution_count": 3,
   "metadata": {},
   "outputs": [],
   "source": [
    "#The function accepts 2D_INTEGER_ARRAY arr as parameter\n",
    "## The function is expected to return an INTEGER.\n",
    "\n",
    "## 1 2 3 \n",
    "## 4 5 6\n",
    "## 9 8 9 \n",
    "\n",
    "# left to right diagonal =1+5+9= 15\n",
    "# right to left diagonal = 3 + 5 + 9 = 17 \n",
    "## another example :\n",
    "##11 2 4\n",
    "##4 5 6\n",
    "##10 8 -12\n",
    "\n",
    "## diag1 - diag 2 = 15 , \n",
    "# pls note , we must ahve the input in the form of  nested list \n",
    "\n",
    "\n",
    "# https://www.hackerrank.com/challenges/diagonal-difference/problem?isFullScreen=true \n"
   ]
  },
  {
   "cell_type": "code",
   "execution_count": 35,
   "metadata": {},
   "outputs": [],
   "source": [
    "def diagonalDifference(arr):\n",
    "    temp = 0\n",
    "    emp = 0\n",
    "    for i in range(len(arr)):\n",
    "        temp = temp + arr[i][i]\n",
    "    \n",
    "    for j in range(len(arr)):\n",
    "        emp = emp + arr[j][len(arr)-1-j]\n",
    "    \n",
    "    return abs(temp - emp)\n",
    "    "
   ]
  },
  {
   "cell_type": "code",
   "execution_count": 41,
   "metadata": {},
   "outputs": [
    {
     "name": "stdout",
     "output_type": "stream",
     "text": [
      "[[11, 2, 4], [4, 5, 6], [10, 8, -12]]\n",
      "<class 'list'>\n"
     ]
    }
   ],
   "source": [
    "if __name__ == '__main__':\n",
    "    #n = int(input().strip())\n",
    "\n",
    "    arr = [[11, 2, 4], [4, 5, 6], [10, 8, -12]]\n",
    "    print(arr)\n",
    "\n",
    "    print(type(arr))\n",
    "\n",
    "    #for _ in range(n):\n",
    "    #    arr.append(list(map(int, input().rstrip().split())))\n",
    "\n",
    "    result = diagonalDifference(arr)"
   ]
  },
  {
   "cell_type": "code",
   "execution_count": 42,
   "metadata": {},
   "outputs": [
    {
     "data": {
      "text/plain": [
       "15"
      ]
     },
     "execution_count": 42,
     "metadata": {},
     "output_type": "execute_result"
    }
   ],
   "source": [
    "result"
   ]
  },
  {
   "cell_type": "code",
   "execution_count": 48,
   "metadata": {},
   "outputs": [
    {
     "data": {
      "text/plain": [
       "list"
      ]
     },
     "execution_count": 48,
     "metadata": {},
     "output_type": "execute_result"
    }
   ],
   "source": [
    "## bit of homework for class list \n",
    "\n",
    "arr_1 = [[11, 2, 4], [4, 5, 6], [10, 8, -12]]\n",
    "#print(arr_1)\n",
    "type(arr_1)\n",
    "#print(type(arr_1))"
   ]
  },
  {
   "cell_type": "code",
   "execution_count": 49,
   "metadata": {},
   "outputs": [
    {
     "name": "stdout",
     "output_type": "stream",
     "text": [
      "<class 'list'>\n"
     ]
    }
   ],
   "source": [
    "arr_2=[3,4,5]\n",
    "print(type(arr_2))"
   ]
  },
  {
   "cell_type": "code",
   "execution_count": 51,
   "metadata": {},
   "outputs": [
    {
     "data": {
      "text/plain": [
       "(4, 5, 10)"
      ]
     },
     "execution_count": 51,
     "metadata": {},
     "output_type": "execute_result"
    }
   ],
   "source": [
    "## now checking the j loop once :\n",
    "arr_1[0][3-1-0] , arr_1[1][3-1-1],arr_1[2][3-1-2]\n",
    "\n",
    "## these gve the right diagonal "
   ]
  },
  {
   "cell_type": "code",
   "execution_count": null,
   "metadata": {},
   "outputs": [],
   "source": []
  }
 ],
 "metadata": {
  "interpreter": {
   "hash": "a6b738a20b7c4dd66e3f3007408cb2b890bc08b040953abb5095f875d865ce52"
  },
  "kernelspec": {
   "display_name": "Python 3.7.7 ('tf-gpu')",
   "language": "python",
   "name": "python3"
  },
  "language_info": {
   "codemirror_mode": {
    "name": "ipython",
    "version": 3
   },
   "file_extension": ".py",
   "mimetype": "text/x-python",
   "name": "python",
   "nbconvert_exporter": "python",
   "pygments_lexer": "ipython3",
   "version": "3.7.7"
  },
  "orig_nbformat": 4
 },
 "nbformat": 4,
 "nbformat_minor": 2
}
