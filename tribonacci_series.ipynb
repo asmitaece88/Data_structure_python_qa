{
 "cells": [
  {
   "cell_type": "code",
   "execution_count": 3,
   "metadata": {},
   "outputs": [],
   "source": [
    "# A simple recursive CPP program to print\n",
    "# first n Tribonacci numbers.\n",
    " \n",
    "def printTribRec(n) :\n",
    "    if (n == 0 or n == 1 or n == 2) :\n",
    "        return 0\n",
    "    elif (n == 3) :\n",
    "        return 1\n",
    "    else :\n",
    "        return (printTribRec(n - 1) +\n",
    "                printTribRec(n - 2) +\n",
    "                printTribRec(n - 3))\n",
    "         \n",
    " \n",
    "def printTrib(n) :\n",
    "    for i in range(1, n) :\n",
    "        print( printTribRec(i) , \" \", end = \"\")\n",
    "         \n",
    " \n",
    "\n",
    " "
   ]
  },
  {
   "cell_type": "code",
   "execution_count": 4,
   "metadata": {},
   "outputs": [
    {
     "name": "stdout",
     "output_type": "stream",
     "text": [
      "0  0  1  1  2  4  7  13  24  "
     ]
    }
   ],
   "source": [
    "# Driver code\n",
    "n = 10\n",
    "printTrib(n)"
   ]
  },
  {
   "cell_type": "code",
   "execution_count": null,
   "metadata": {},
   "outputs": [],
   "source": []
  }
 ],
 "metadata": {
  "kernelspec": {
   "display_name": "Python 3",
   "language": "python",
   "name": "python3"
  },
  "language_info": {
   "codemirror_mode": {
    "name": "ipython",
    "version": 3
   },
   "file_extension": ".py",
   "mimetype": "text/x-python",
   "name": "python",
   "nbconvert_exporter": "python",
   "pygments_lexer": "ipython3",
   "version": "3.7.7"
  }
 },
 "nbformat": 4,
 "nbformat_minor": 4
}
