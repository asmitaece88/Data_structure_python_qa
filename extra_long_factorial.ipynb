{
 "cells": [
  {
   "cell_type": "code",
   "execution_count": 2,
   "metadata": {},
   "outputs": [],
   "source": [
    "#https://www.hackerrank.com/challenges/extra-long-factorials/problem?h_r=internal-search\n",
    "#https://www.youtube.com/watch?v=rtNvgva7k4g&list=PL_8jNcohs27XQfEmWAHCgLFqpsNaWxUSe&index=41\n"
   ]
  },
  {
   "cell_type": "code",
   "execution_count": 3,
   "metadata": {},
   "outputs": [],
   "source": [
    "def extralongfactorial(n):\n",
    "    fact =1\n",
    "    for i in range(1, n+1):\n",
    "        fact*=i\n",
    "    print(fact)    "
   ]
  },
  {
   "cell_type": "code",
   "execution_count": 4,
   "metadata": {},
   "outputs": [
    {
     "name": "stdout",
     "output_type": "stream",
     "text": [
      "2432902008176640000\n"
     ]
    }
   ],
   "source": [
    "number =20\n",
    "\n",
    "fact= extralongfactorial(number)"
   ]
  },
  {
   "cell_type": "code",
   "execution_count": null,
   "metadata": {},
   "outputs": [],
   "source": []
  }
 ],
 "metadata": {
  "interpreter": {
   "hash": "a6b738a20b7c4dd66e3f3007408cb2b890bc08b040953abb5095f875d865ce52"
  },
  "kernelspec": {
   "display_name": "Python 3.7.7 ('tf-gpu')",
   "language": "python",
   "name": "python3"
  },
  "language_info": {
   "codemirror_mode": {
    "name": "ipython",
    "version": 3
   },
   "file_extension": ".py",
   "mimetype": "text/x-python",
   "name": "python",
   "nbconvert_exporter": "python",
   "pygments_lexer": "ipython3",
   "version": "3.7.7"
  },
  "orig_nbformat": 4
 },
 "nbformat": 4,
 "nbformat_minor": 2
}
