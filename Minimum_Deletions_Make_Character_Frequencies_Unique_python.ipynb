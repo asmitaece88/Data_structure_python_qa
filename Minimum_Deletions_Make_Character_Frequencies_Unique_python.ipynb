{
 "cells": [
  {
   "cell_type": "code",
   "execution_count": 1,
   "metadata": {},
   "outputs": [],
   "source": [
    "# https://www.youtube.com/watch?v=SYq3IHVWYqY"
   ]
  },
  {
   "cell_type": "code",
   "execution_count": 2,
   "metadata": {},
   "outputs": [],
   "source": [
    "# https://iq.opengenus.org/minimum-deletion-for-unique-frequency/ "
   ]
  },
  {
   "cell_type": "raw",
   "metadata": {},
   "source": [
    "Problem\n",
    "You are given a string s. You have to find the minimum number of characters to be deleted so that frequency of each character becomes unique.\n",
    "\n",
    "Note that all characters in the string are lowercase.\n",
    "\n",
    "Given string s = 'ccdacdd'\n",
    "Note the frequency of characters : { c:3, a:1, d:3 }\n",
    "Now, as c and d both have same frequency 3, we need to delete one character from c or d, to make their frequency different. After deleting any character from c or d we will get frequency as 1,2 and 3, as they all are different we got our solution as 1."
   ]
  },
  {
   "cell_type": "markdown",
   "metadata": {},
   "source": [
    "Approach\n",
    "First of all, we need to count the frequency of all dictinct characters present in our string. Then we store each frequency corresponding to number of characters having that frequency, in a dictionary(python).\n",
    "\n",
    "After that we traverse the dictionary from higher frequency to lower and if we find a frequency that has more than one character with it, we delete one occurence of the character and increment the number of character corresponding to frequency one less. This process is repeated till we check all the frquencies."
   ]
  },
  {
   "cell_type": "markdown",
   "metadata": {},
   "source": [
    "Pseudocode\n",
    "Create a list of length 26 with elements as 0.\n",
    "Traverse the given string and increment elements of list having position as ASCII code of character - ASCII code of (a).\n",
    "Create a dictionary and traverse the list storing each frequency which is greater than 0.\n",
    "If any frequency repeats, we increment the value corresponding to it by 1.\n",
    "Then we sort our dictionary in a reversed order and start traversing.\n",
    "If we find a frequency having more than one character associated with it, we start decrementing the number of characters by 1 and incrementing the number of characters associated with frequency one less, also we increment our deletion variable by 1.\n",
    "Return the deletion variable when we finished traversing."
   ]
  },
  {
   "cell_type": "code",
   "execution_count": 3,
   "metadata": {},
   "outputs": [],
   "source": [
    "def minDeletions( s: str) -> int:\n",
    "        \n",
    "        # Store the frequency of each character\n",
    "        frequency = [0] * 26\n",
    "        for char in s:\n",
    "            frequency[ord(char) - ord('a')] += 1\n",
    "        \n",
    "        delete_count = 0\n",
    "        # Use a set to store the frequencies we have already seen\n",
    "        seen_frequencies = set()\n",
    "        for i in range(26):\n",
    "            # Keep decrementing the frequency until it is unique\n",
    "            while frequency[i] and frequency[i] in seen_frequencies:\n",
    "                frequency[i] -= 1\n",
    "                delete_count += 1\n",
    "                \n",
    "            # Add the newly occupied frequency to the set\n",
    "            seen_frequencies.add(frequency[i])\n",
    "        \n",
    "        return delete_count"
   ]
  },
  {
   "cell_type": "code",
   "execution_count": 14,
   "metadata": {},
   "outputs": [],
   "source": [
    "s='aaabbbcc'"
   ]
  },
  {
   "cell_type": "code",
   "execution_count": 15,
   "metadata": {},
   "outputs": [],
   "source": [
    "check = minDeletions(s)"
   ]
  },
  {
   "cell_type": "code",
   "execution_count": 16,
   "metadata": {},
   "outputs": [
    {
     "data": {
      "text/plain": [
       "2"
      ]
     },
     "execution_count": 16,
     "metadata": {},
     "output_type": "execute_result"
    }
   ],
   "source": [
    "check"
   ]
  },
  {
   "cell_type": "code",
   "execution_count": 17,
   "metadata": {},
   "outputs": [
    {
     "data": {
      "text/plain": [
       "0"
      ]
     },
     "execution_count": 17,
     "metadata": {},
     "output_type": "execute_result"
    }
   ],
   "source": [
    "s2='aab'\n",
    "check_2= minDeletions(s2)\n",
    "check_2"
   ]
  },
  {
   "cell_type": "code",
   "execution_count": 21,
   "metadata": {},
   "outputs": [],
   "source": [
    "frequency = [0] * 26"
   ]
  },
  {
   "cell_type": "code",
   "execution_count": 22,
   "metadata": {},
   "outputs": [
    {
     "data": {
      "text/plain": [
       "[0, 0, 0, 0, 0, 0, 0, 0, 0, 0, 0, 0, 0, 0, 0, 0, 0, 0, 0, 0, 0, 0, 0, 0, 0, 0]"
      ]
     },
     "execution_count": 22,
     "metadata": {},
     "output_type": "execute_result"
    }
   ],
   "source": [
    "frequency"
   ]
  },
  {
   "cell_type": "code",
   "execution_count": 23,
   "metadata": {},
   "outputs": [],
   "source": [
    "for char in 'aaabbbcc':\n",
    "    frequency[ord(char) - ord('a')] += 1"
   ]
  },
  {
   "cell_type": "code",
   "execution_count": 24,
   "metadata": {},
   "outputs": [
    {
     "data": {
      "text/plain": [
       "[3, 3, 2, 0, 0, 0, 0, 0, 0, 0, 0, 0, 0, 0, 0, 0, 0, 0, 0, 0, 0, 0, 0, 0, 0, 0]"
      ]
     },
     "execution_count": 24,
     "metadata": {},
     "output_type": "execute_result"
    }
   ],
   "source": [
    "frequency"
   ]
  },
  {
   "cell_type": "code",
   "execution_count": 25,
   "metadata": {},
   "outputs": [
    {
     "data": {
      "text/plain": [
       "0"
      ]
     },
     "execution_count": 25,
     "metadata": {},
     "output_type": "execute_result"
    }
   ],
   "source": [
    "frequency[3]"
   ]
  },
  {
   "cell_type": "code",
   "execution_count": 26,
   "metadata": {},
   "outputs": [],
   "source": [
    "delete_count=0"
   ]
  },
  {
   "cell_type": "code",
   "execution_count": 27,
   "metadata": {},
   "outputs": [],
   "source": [
    "seen_frequencies=set()"
   ]
  },
  {
   "cell_type": "code",
   "execution_count": 28,
   "metadata": {},
   "outputs": [
    {
     "data": {
      "text/plain": [
       "set()"
      ]
     },
     "execution_count": 28,
     "metadata": {},
     "output_type": "execute_result"
    }
   ],
   "source": [
    "seen_frequencies"
   ]
  },
  {
   "cell_type": "code",
   "execution_count": 29,
   "metadata": {},
   "outputs": [],
   "source": [
    "for i in range(26):\n",
    "    # Keep decrementing the frequency until it is unique\n",
    "    while frequency[i] and frequency[i] in seen_frequencies:\n",
    "                frequency[i] -= 1\n",
    "                delete_count += 1\n",
    "                \n",
    "    # Add the newly occupied frequency to the set\n",
    "    seen_frequencies.add(frequency[i])            "
   ]
  },
  {
   "cell_type": "code",
   "execution_count": 30,
   "metadata": {},
   "outputs": [
    {
     "data": {
      "text/plain": [
       "2"
      ]
     },
     "execution_count": 30,
     "metadata": {},
     "output_type": "execute_result"
    }
   ],
   "source": [
    "delete_count"
   ]
  },
  {
   "cell_type": "code",
   "execution_count": null,
   "metadata": {},
   "outputs": [],
   "source": []
  }
 ],
 "metadata": {
  "kernelspec": {
   "display_name": "Python 3",
   "language": "python",
   "name": "python3"
  },
  "language_info": {
   "codemirror_mode": {
    "name": "ipython",
    "version": 3
   },
   "file_extension": ".py",
   "mimetype": "text/x-python",
   "name": "python",
   "nbconvert_exporter": "python",
   "pygments_lexer": "ipython3",
   "version": "3.7.7"
  }
 },
 "nbformat": 4,
 "nbformat_minor": 4
}
