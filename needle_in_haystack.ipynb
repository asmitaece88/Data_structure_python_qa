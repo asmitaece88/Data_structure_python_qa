{
 "cells": [
  {
   "cell_type": "code",
   "execution_count": 1,
   "metadata": {},
   "outputs": [],
   "source": [
    "# Can you find the needle in the haystack?\n",
    "\n",
    "# Write a function findNeedle() that takes an array full of junk but containing one \"needle\"\n",
    "\n",
    "# After your function finds the needle it should return a message (as a string) that says:\n",
    "\n",
    "# \"found the needle at position \" plus the index it found the needle, so:\n",
    "\n",
    "# find_needle(['hay', 'junk', 'hay', 'hay', 'moreJunk', 'needle', 'randomJunk'])\n",
    "# should return \"found the needle at -position 5\""
   ]
  },
  {
   "cell_type": "markdown",
   "metadata": {},
   "source": []
  },
  {
   "cell_type": "code",
   "execution_count": 21,
   "metadata": {},
   "outputs": [],
   "source": [
    "def find_needle(haystack, needle):\n",
    "    try :\n",
    "        check=haystack.index(needle)\n",
    "        return \"found the needle at position {}\".format(check   )\n",
    "    except  :\n",
    "        print(\" not found \")  "
   ]
  },
  {
   "cell_type": "code",
   "execution_count": 22,
   "metadata": {},
   "outputs": [],
   "source": [
    "haystack =['hay', 'junk', 'hay', 'hay', 'moreJunk', 'asmita', 'randomJunk']"
   ]
  },
  {
   "cell_type": "code",
   "execution_count": 23,
   "metadata": {},
   "outputs": [
    {
     "name": "stdout",
     "output_type": "stream",
     "text": [
      "asmita\n"
     ]
    }
   ],
   "source": [
    "needle  = input(\"enter the needle name\")\n",
    "print(needle)"
   ]
  },
  {
   "cell_type": "code",
   "execution_count": 24,
   "metadata": {},
   "outputs": [
    {
     "data": {
      "text/plain": [
       "'found the needle at position 5'"
      ]
     },
     "execution_count": 24,
     "metadata": {},
     "output_type": "execute_result"
    }
   ],
   "source": [
    "find_needle(haystack,needle)"
   ]
  },
  {
   "cell_type": "code",
   "execution_count": 25,
   "metadata": {},
   "outputs": [
    {
     "name": "stdout",
     "output_type": "stream",
     "text": [
      "riya\n"
     ]
    }
   ],
   "source": [
    "needle  = input(\"enter the needle name\")\n",
    "print(needle)"
   ]
  },
  {
   "cell_type": "code",
   "execution_count": 26,
   "metadata": {},
   "outputs": [
    {
     "name": "stdout",
     "output_type": "stream",
     "text": [
      " not found \n"
     ]
    }
   ],
   "source": [
    "find_needle(haystack,needle)"
   ]
  },
  {
   "cell_type": "code",
   "execution_count": null,
   "metadata": {},
   "outputs": [],
   "source": []
  }
 ],
 "metadata": {
  "interpreter": {
   "hash": "61eee1b10eafb721081ebfd5dd53c1b8bdcccddca43d7f5d72aa3bea94a5c89c"
  },
  "kernelspec": {
   "display_name": "Python 3.6.7 64-bit",
   "language": "python",
   "name": "python3"
  },
  "language_info": {
   "codemirror_mode": {
    "name": "ipython",
    "version": 3
   },
   "file_extension": ".py",
   "mimetype": "text/x-python",
   "name": "python",
   "nbconvert_exporter": "python",
   "pygments_lexer": "ipython3",
   "version": "3.6.7"
  },
  "orig_nbformat": 4
 },
 "nbformat": 4,
 "nbformat_minor": 2
}
