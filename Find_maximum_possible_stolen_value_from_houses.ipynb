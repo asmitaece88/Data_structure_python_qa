{
 "cells": [
  {
   "cell_type": "code",
   "execution_count": 1,
   "metadata": {},
   "outputs": [],
   "source": [
    "#https://www.geeksforgeeks.org/find-maximum-possible-stolen-value-houses/"
   ]
  },
  {
   "cell_type": "raw",
   "metadata": {},
   "source": [
    "There are n houses build in a line, each of which contains some value in it. A thief is going to steal the maximal value of these houses, but he can’t steal in two adjacent houses because the owner of the stolen houses will tell his two neighbors left and right side. What is the maximum stolen value?\n",
    "\n",
    "Examples: \n",
    "\n",
    "Input: hval[] = {6, 7, 1, 3, 8, 2, 4}\n",
    "Output: 19\n",
    "\n",
    "Explanation: The thief will steal 6, 1, 8 and 4 from the house.\n",
    "\n",
    "Input: hval[] = {5, 3, 4, 11, 2}\n",
    "Output: 16\n",
    "\n",
    "Explanation: Thief will steal 5 and 11"
   ]
  },
  {
   "cell_type": "code",
   "execution_count": 1,
   "metadata": {},
   "outputs": [],
   "source": [
    "def maxloot(hval , n , dp):\n",
    "    \n",
    "    #print the value n \n",
    "    print(f\"printing value of n {n}\")\n",
    "    ##base case \n",
    "    if (n<0):\n",
    "        print(\" printing n < 0\")\n",
    "        return 0 \n",
    "    if (n==0):\n",
    "        print(\"printing n==0\")\n",
    "        return hval[0]\n",
    "    \n",
    "    \n",
    "    ### if the subproblem is already solved ,  then return its  value \n",
    "    if ( dp[n]!=-1 ):\n",
    "        print(\"subprogram resolved\")\n",
    "        return  dp[n]\n",
    "    \n",
    "    ##printing hval now \n",
    "    print(f\" printing hval[n] --- {hval[n]}\")\n",
    "    \n",
    "    ## if current element  is pick  , then previous  element cannot be picked\n",
    "    pick =hval[n]+maxloot(hval , n-2 , dp)\n",
    "    print(f\" printing pick {pick}\")\n",
    "    \n",
    "    ## if current element is not picked , then previous element is picked \n",
    "    notpick = maxloot(hval , n-1 , dp)\n",
    "    print(f\" printing notpick {notpick}\")\n",
    "    \n",
    "    ##return  max of picked and not picked \n",
    "    dp[n]=max(pick , notpick)\n",
    "    \n",
    "    return dp[n]\n",
    "    \n",
    "    "
   ]
  },
  {
   "cell_type": "code",
   "execution_count": 2,
   "metadata": {},
   "outputs": [],
   "source": [
    "# Driver to test above code\n",
    "hval = [6, 7, 1, 3, 8, 2, 4]\n",
    "n = len(hval)"
   ]
  },
  {
   "cell_type": "code",
   "execution_count": 3,
   "metadata": {},
   "outputs": [
    {
     "data": {
      "text/plain": [
       "([6, 7, 1, 3, 8, 2, 4], 7)"
      ]
     },
     "execution_count": 3,
     "metadata": {},
     "output_type": "execute_result"
    }
   ],
   "source": [
    "hval , n "
   ]
  },
  {
   "cell_type": "code",
   "execution_count": 4,
   "metadata": {},
   "outputs": [],
   "source": [
    "# Initialize a dp vector\n",
    "dp = [-1 for i in range(n+1)]"
   ]
  },
  {
   "cell_type": "code",
   "execution_count": 5,
   "metadata": {},
   "outputs": [
    {
     "data": {
      "text/plain": [
       "([-1, -1, -1, -1, -1, -1, -1, -1], 8)"
      ]
     },
     "execution_count": 5,
     "metadata": {},
     "output_type": "execute_result"
    }
   ],
   "source": [
    "dp , len(dp)"
   ]
  },
  {
   "cell_type": "code",
   "execution_count": 6,
   "metadata": {},
   "outputs": [
    {
     "name": "stdout",
     "output_type": "stream",
     "text": [
      "printing value of n 6\n",
      " printing hval[n] --- 4\n",
      "printing value of n 4\n",
      " printing hval[n] --- 8\n",
      "printing value of n 2\n",
      " printing hval[n] --- 1\n",
      "printing value of n 0\n",
      "printing n==0\n",
      " printing pick 7\n",
      "printing value of n 1\n",
      " printing hval[n] --- 7\n",
      "printing value of n -1\n",
      " printing n < 0\n",
      " printing pick 7\n",
      "printing value of n 0\n",
      "printing n==0\n",
      " printing notpick 6\n",
      " printing notpick 7\n",
      " printing pick 15\n",
      "printing value of n 3\n",
      " printing hval[n] --- 3\n",
      "printing value of n 1\n",
      "subprogram resolved\n",
      " printing pick 10\n",
      "printing value of n 2\n",
      "subprogram resolved\n",
      " printing notpick 7\n",
      " printing notpick 10\n",
      " printing pick 19\n",
      "printing value of n 5\n",
      " printing hval[n] --- 2\n",
      "printing value of n 3\n",
      "subprogram resolved\n",
      " printing pick 12\n",
      "printing value of n 4\n",
      "subprogram resolved\n",
      " printing notpick 15\n",
      " printing notpick 15\n",
      "Maximum loot possible : 19\n"
     ]
    }
   ],
   "source": [
    "print(\"Maximum loot possible : \"+str(maxloot(hval, n-1, dp)))"
   ]
  },
  {
   "cell_type": "code",
   "execution_count": 7,
   "metadata": {},
   "outputs": [
    {
     "data": {
      "text/plain": [
       "[-1, 7, 7, 10, 15, 15, 19, -1]"
      ]
     },
     "execution_count": 7,
     "metadata": {},
     "output_type": "execute_result"
    }
   ],
   "source": [
    "dp"
   ]
  },
  {
   "cell_type": "markdown",
   "metadata": {},
   "source": [
    "Complexity Analysis:  \n",
    "\n",
    "Time Complexity: O(n) . Only one traversal of original array is needed. So the time complexity is O(n)\n",
    "Space Complexity:  O(n). Recursive stack space is required of size n, so space complexity is O(n)."
   ]
  },
  {
   "cell_type": "code",
   "execution_count": null,
   "metadata": {},
   "outputs": [],
   "source": []
  }
 ],
 "metadata": {
  "kernelspec": {
   "display_name": "Python 3",
   "language": "python",
   "name": "python3"
  },
  "language_info": {
   "codemirror_mode": {
    "name": "ipython",
    "version": 3
   },
   "file_extension": ".py",
   "mimetype": "text/x-python",
   "name": "python",
   "nbconvert_exporter": "python",
   "pygments_lexer": "ipython3",
   "version": "3.6.8"
  },
  "toc": {
   "base_numbering": 1,
   "nav_menu": {},
   "number_sections": true,
   "sideBar": true,
   "skip_h1_title": false,
   "title_cell": "Table of Contents",
   "title_sidebar": "Contents",
   "toc_cell": false,
   "toc_position": {},
   "toc_section_display": true,
   "toc_window_display": false
  }
 },
 "nbformat": 4,
 "nbformat_minor": 4
}
